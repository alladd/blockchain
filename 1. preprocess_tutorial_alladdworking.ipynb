{
 "cells": [
  {
   "cell_type": "code",
   "execution_count": 16,
   "metadata": {},
   "outputs": [],
   "source": [
    "import re, os\n",
    "import pandas as pd\n",
    "import regex\n",
    "import numpy as np"
   ]
  },
  {
   "cell_type": "code",
   "execution_count": 17,
   "metadata": {},
   "outputs": [
    {
     "name": "stdout",
     "output_type": "stream",
     "text": [
      "before :  89767\n"
     ]
    }
   ],
   "source": [
    "##파일 불러오기\n",
    "file_name = \"SKH_News Items_201601_20170120_175001.txt\"\n",
    "file_folder = \"data\"\n",
    "data_path = os.path.join(file_folder, file_name)\n",
    "df = pd.read_csv(data_path, sep=\"|\")\n",
    "print(\"before : \", len(df))\n",
    "df??"
   ]
  },
  {
   "cell_type": "code",
   "execution_count": 18,
   "metadata": {},
   "outputs": [
    {
     "name": "stdout",
     "output_type": "stream",
     "text": [
      "after :  21948\n"
     ]
    }
   ],
   "source": [
    "##데이터가 없는 row 삭제\n",
    "df = df.dropna()\n",
    "print(\"after : \", len(df))"
   ]
  },
  {
   "cell_type": "code",
   "execution_count": 19,
   "metadata": {},
   "outputs": [
    {
     "data": {
      "text/plain": [
       "Index(['Story Date Time', 'Headline', 'Story Body', 'Related RICs', 'Topics'], dtype='object')"
      ]
     },
     "execution_count": 19,
     "metadata": {},
     "output_type": "execute_result"
    }
   ],
   "source": [
    "df.columns"
   ]
  },
  {
   "cell_type": "code",
   "execution_count": 49,
   "metadata": {},
   "outputs": [
    {
     "data": {
      "text/plain": [
       "TABLE-FOB U.S. cash millfeed prices                                                                                                                 15\n",
       "U.S. cash crude deals                                                                                                                               12\n",
       "BSE Block Deal PMC FINCORP-B 500,000 shares at 0.72 INR  <PRMF.BO>                                                                                  11\n",
       "BRIEF-Toronto Stock Exchange unofficially closes down                                                                                               10\n",
       "NSEI Block Deal VISESH INFOTEC 500,000 shares at 0.10 INR <VIFY.NS>                                                                                 10\n",
       "SHH Margin Trading -- LY Junsheng <600699.SS> Margin Long Amount is 0.00   (x10000) yuan, Short Selling Volume is 0.00 (x10000) shares               9\n",
       "SHH Margin Trading -- Synica <600490.SS> Margin Long Amount is 0.00   (x10000) yuan, Short Selling Volume is 0.00 (x10000) shares                    9\n",
       "SHH Margin Trading -- MeiHua Group <600873.SS> Margin Long Amount is 0.00   (x10000) yuan, Short Selling Volume is 0.00 (x10000) shares              9\n",
       "SHH Margin Trading -- Guangxi Fenglin <601996.SS> Margin Long Amount is 0.00   (x10000) yuan, Short Selling Volume is 0.00 (x10000) shares           9\n",
       "SHH Margin Trading -- Yechiu Metal <601388.SS> Margin Long Amount is 0.00   (x10000) yuan, Short Selling Volume is 0.00 (x10000) shares              9\n",
       "SHH Margin Trading -- ZMJ <601717.SS> Margin Long Amount is 0.00   (x10000) yuan, Short Selling Volume is 0.00 (x10000) shares                       9\n",
       "SHH Margin Trading -- NB Port <601018.SS> Margin Long Amount is 0.00   (x10000) yuan, Short Selling Volume is 0.00 (x10000) shares                   9\n",
       "SHH Margin Trading -- Aisino <600271.SS> Margin Long Amount is 0.00   (x10000) yuan, Short Selling Volume is 0.00 (x10000) shares                    9\n",
       "SHH Margin Trading -- Anhui Water <600502.SS> Margin Long Amount is 0.00   (x10000) yuan, Short Selling Volume is 0.00 (x10000) shares               9\n",
       "SHH Margin Trading -- NT Jiangshan <600389.SS> Margin Long Amount is 0.00   (x10000) yuan, Short Selling Volume is 0.00 (x10000) shares              9\n",
       "SHH Margin Trading -- Wuzhong <600200.SS> Margin Long Amount is 0.00   (x10000) yuan, Short Selling Volume is 0.00 (x10000) shares                   9\n",
       "SHH Margin Trading -- Shanghai Feilo Co Ltd <600654.SS> Margin Long Amount is 0.00   (x10000) yuan, Short Selling Volume is 0.00 (x10000) shares     9\n",
       "SHH Margin Trading -- Hualing Xingma <600375.SS> Margin Long Amount is 0.00   (x10000) yuan, Short Selling Volume is 0.00 (x10000) shares            9\n",
       "SHH Margin Trading -- Xiamen C&D <600153.SS> Margin Long Amount is 0.00   (x10000) yuan, Short Selling Volume is 0.00 (x10000) shares                9\n",
       "SHH Margin Trading -- TS Port Group <601000.SS> Margin Long Amount is 0.00   (x10000) yuan, Short Selling Volume is 0.00 (x10000) shares             9\n",
       "SHH Margin Trading -- Hainan Zhenghe <600759.SS> Margin Long Amount is 0.00   (x10000) yuan, Short Selling Volume is 0.00 (x10000) shares            9\n",
       "SHH Margin Trading -- SX SCC <600740.SS> Margin Long Amount is 0.00   (x10000) yuan, Short Selling Volume is 0.00 (x10000) shares                    9\n",
       "SHH Margin Trading -- Qingdao Haier <600690.SS> Margin Long Amount is 0.00   (x10000) yuan, Short Selling Volume is 0.00 (x10000) shares             9\n",
       "SHH Margin Trading -- JCET <600584.SS> Margin Long Amount is 0.00   (x10000) yuan, Short Selling Volume is 0.00 (x10000) shares                      9\n",
       "SHH Margin Trading -- Zj Orient <600120.SS> Margin Long Amount is 0.00   (x10000) yuan, Short Selling Volume is 0.00 (x10000) shares                 9\n",
       "SHH Margin Trading -- Topsun <600771.SS> Margin Long Amount is 0.00   (x10000) yuan, Short Selling Volume is 0.00 (x10000) shares                    9\n",
       "SHH Margin Trading -- Jingneng Therm <600578.SS> Margin Long Amount is 0.00   (x10000) yuan, Short Selling Volume is 0.00 (x10000) shares            9\n",
       "TABLE-Foreign trading in South Korean stocks                                                                                                         8\n",
       "SHH Margin Trading -- Zongyi <600770.SS> Margin Long Amount is 0.00   (x10000) yuan, Short Selling Volume is 0.00 (x10000) shares                    8\n",
       "SHH Margin Trading -- Hebei Baoshuo <600155.SS> Margin Long Amount is 0.00   (x10000) yuan, Short Selling Volume is 0.00 (x10000) shares             8\n",
       "                                                                                                                                                    ..\n",
       "TABLE-Hitachi High-Tec <8036.T>-9-MTH group results (IFRS)                                                                                           1\n",
       "Bristol-Myers forecasts 2016 profit above Wall Street estimates                                                                                      1\n",
       "Hong Kong shares close down as mainland markets tumble                                                                                               1\n",
       "BRIEF-Dignitana receives new order for DigniCap in US                                                                                                1\n",
       "Moody's assigns A2 rating to The Walt Disney Company's proposed bond offering <DIS.N>                                                                1\n",
       "LG Display Q4 operating profit tumbles 90 pct vs year earlier                                                                                        1\n",
       "BRIEF-Cegedim Q4 revenue rises to 143.4 million euros                                                                                                1\n",
       "BRIEF-Columbus McKinnon Q3 adjusted non-GAAP earnings per share $0.32                                                                                1\n",
       "BRIEF-Atlantic Leaf Properties reports 9-months profit before taxation of 3.2 mln STG                                                                1\n",
       "BRIEF-DX.com Holdings says placing of new shares                                                                                                     1\n",
       "BRIEF-Wellesley Bancorp posts quarterly earnings $0.39/shr                                                                                           1\n",
       "TABLE-Takebishi <7510.T>-9-MTH group results                                                                                                         1\n",
       "CEE POWER-Strong wind power supply weighs on spot prices                                                                                             1\n",
       "SHH Margin Trading -- Mayinglong Pharm <600993.SS> Margin Long Amount is 2,400   (x10000) yuan, Short Selling Volume is 0.00 (x10000) shares         1\n",
       "BRIEF-Northeast Tiger updates on possible transaction                                                                                                1\n",
       "BRIEF-Visa reports Q1 adjusted earnings per share $0.69 excluding items                                                                              1\n",
       "SHH Margin Trading -- Gehua CATV <600037.SS> Margin Long Amount is 6,848   (x10000) yuan, Short Selling Volume is 0.04 (x10000) shares               1\n",
       "SHH Margin Trading -- Hisun <600267.SS> Margin Long Amount is 4,199   (x10000) yuan, Short Selling Volume is 2 (x10000) shares                       1\n",
       "RPT-Loss-making Kenya Airways replaces finance director                                                                                              1\n",
       "BRIEF-Arch Coal reaches agreement with senior lenders to restructure balance sheet and reduce debt                                                   1\n",
       "WRAPUP 4-Iran frees American prisoners as international sanctions to end                                                                             1\n",
       "SHH Margin Trading -- China-Kinwa <600110.SS> Margin Long Amount is 2,762   (x10000) yuan, Short Selling Volume is 0.00 (x10000) shares              1\n",
       "BRIEF-China's Ceepower shares to halt trade                                                                                                          1\n",
       "TABLE-Alps Transportation <9055.T>-9-MTH group results                                                                                               1\n",
       "Ardent Mills says resumes operations at Illinois flour mill after flooding                                                                           1\n",
       "SHH Margin Trading -- Great Wisdom <601519.SS> Margin Long Amount is 3,610   (x10000) yuan, Short Selling Volume is 0.00 (x10000) shares             1\n",
       "UPDATE 2-Bank of Korea holds rates, signals no cut soon, lowers outlook                                                                              1\n",
       "Moody's assigns Aa3 to Appalachian State University, NC's Series 2016A&B; outlook stable                                                             1\n",
       "WRAPUP 1-China shares open down as oil back below $30 a barrel                                                                                       1\n",
       "SHH Margin Trading -- SSE 180 <510010.SS> Margin Long Amount is 7   (x10000) yuan, Short Selling Volume is 0.03 (x10000) shares                      1\n",
       "Name: Headline, Length: 20650, dtype: int64"
      ]
     },
     "execution_count": 49,
     "metadata": {},
     "output_type": "execute_result"
    }
   ],
   "source": [
    "df.index\n",
    "\n",
    "df.shape\n",
    "df.describe()\n",
    "df.head()\n",
    "\n",
    "# 컬럼의 데이터값별 중복갯수\n",
    "df['Headline'].value_counts()   "
   ]
  },
  {
   "cell_type": "code",
   "execution_count": 22,
   "metadata": {},
   "outputs": [],
   "source": [
    "##Index 생성\n",
    "df[\"Story_num\"] = df.index"
   ]
  },
  {
   "cell_type": "code",
   "execution_count": 24,
   "metadata": {},
   "outputs": [
    {
     "data": {
      "text/html": [
       "<div>\n",
       "<style scoped>\n",
       "    .dataframe tbody tr th:only-of-type {\n",
       "        vertical-align: middle;\n",
       "    }\n",
       "\n",
       "    .dataframe tbody tr th {\n",
       "        vertical-align: top;\n",
       "    }\n",
       "\n",
       "    .dataframe thead th {\n",
       "        text-align: right;\n",
       "    }\n",
       "</style>\n",
       "<table border=\"1\" class=\"dataframe\">\n",
       "  <thead>\n",
       "    <tr style=\"text-align: right;\">\n",
       "      <th></th>\n",
       "      <th>Story Date Time</th>\n",
       "      <th>Headline</th>\n",
       "      <th>Story Body</th>\n",
       "      <th>Related RICs</th>\n",
       "      <th>Topics</th>\n",
       "      <th>Story_num</th>\n",
       "    </tr>\n",
       "  </thead>\n",
       "  <tbody>\n",
       "    <tr>\n",
       "      <th>1</th>\n",
       "      <td>12/31/2015 15:00:00</td>\n",
       "      <td>TABLE-U.S. 30-year, 15-year mortgages</td>\n",
       "      <td>DEC 31 (REUTERS) - FREDDIE MAC &lt;FMCC.OB&gt; ...</td>\n",
       "      <td>FMCC.OB</td>\n",
       "      <td>FIN US COFS MTG INT DBT WASH AGN BSVC FINS MCE...</td>\n",
       "      <td>1</td>\n",
       "    </tr>\n",
       "    <tr>\n",
       "      <th>2</th>\n",
       "      <td>12/31/2015 15:00:03</td>\n",
       "      <td>US STOCKS-Indexes open lower on last day of year</td>\n",
       "      <td>* S&amp;P 500 turns negative for year     * Ap...</td>\n",
       "      <td>.DJI .INX .IXIC .SPX</td>\n",
       "      <td>STX US MKTREP REP MTGFX LEN AMERS RTRS</td>\n",
       "      <td>2</td>\n",
       "    </tr>\n",
       "    <tr>\n",
       "      <th>13</th>\n",
       "      <td>12/31/2015 15:01:27</td>\n",
       "      <td>UPDATE 2-Brazil's Itaú buys BTG Pactual's debt...</td>\n",
       "      <td>(Adds quote, background)     By Guillermo Par...</td>\n",
       "      <td>BBTG11.SA ITUB4.SA BPAC3.SA ITUB.N</td>\n",
       "      <td>LOA CDM FINS BANK INVS SFIN DFIN INVD DEAL1 EM...</td>\n",
       "      <td>13</td>\n",
       "    </tr>\n",
       "    <tr>\n",
       "      <th>27</th>\n",
       "      <td>12/31/2015 15:04:09</td>\n",
       "      <td>UPDATE 1-Saudi's market regulator refers suspe...</td>\n",
       "      <td>* CMA refers unnamed suspects to authoriti...</td>\n",
       "      <td>7020.SE</td>\n",
       "      <td>TCOM PHON WLES ACCI EMRG SA MEAST JUDIC FRAUD1...</td>\n",
       "      <td>27</td>\n",
       "    </tr>\n",
       "    <tr>\n",
       "      <th>38</th>\n",
       "      <td>12/31/2015 15:08:13</td>\n",
       "      <td>BUZZ-Prima BioMed Ltd: Roth Capital starts cov...</td>\n",
       "      <td>** Australian biotech's U.S.-listed shares...</td>\n",
       "      <td>PRR.AX</td>\n",
       "      <td>STX HOT HECA PHMR RCH US LEN BLR HEA CMPNY MRC...</td>\n",
       "      <td>38</td>\n",
       "    </tr>\n",
       "  </tbody>\n",
       "</table>\n",
       "</div>"
      ],
      "text/plain": [
       "        Story Date Time                                           Headline  \\\n",
       "1   12/31/2015 15:00:00              TABLE-U.S. 30-year, 15-year mortgages   \n",
       "2   12/31/2015 15:00:03  US STOCKS-Indexes open lower on last day of year    \n",
       "13  12/31/2015 15:01:27  UPDATE 2-Brazil's Itaú buys BTG Pactual's debt...   \n",
       "27  12/31/2015 15:04:09  UPDATE 1-Saudi's market regulator refers suspe...   \n",
       "38  12/31/2015 15:08:13  BUZZ-Prima BioMed Ltd: Roth Capital starts cov...   \n",
       "\n",
       "                                           Story Body  \\\n",
       "1        DEC 31 (REUTERS) - FREDDIE MAC <FMCC.OB> ...   \n",
       "2       * S&P 500 turns negative for year     * Ap...   \n",
       "13   (Adds quote, background)     By Guillermo Par...   \n",
       "27      * CMA refers unnamed suspects to authoriti...   \n",
       "38      ** Australian biotech's U.S.-listed shares...   \n",
       "\n",
       "                          Related RICs  \\\n",
       "1                              FMCC.OB   \n",
       "2                 .DJI .INX .IXIC .SPX   \n",
       "13  BBTG11.SA ITUB4.SA BPAC3.SA ITUB.N   \n",
       "27                             7020.SE   \n",
       "38                              PRR.AX   \n",
       "\n",
       "                                               Topics  Story_num  \n",
       "1   FIN US COFS MTG INT DBT WASH AGN BSVC FINS MCE...          1  \n",
       "2              STX US MKTREP REP MTGFX LEN AMERS RTRS          2  \n",
       "13  LOA CDM FINS BANK INVS SFIN DFIN INVD DEAL1 EM...         13  \n",
       "27  TCOM PHON WLES ACCI EMRG SA MEAST JUDIC FRAUD1...         27  \n",
       "38  STX HOT HECA PHMR RCH US LEN BLR HEA CMPNY MRC...         38  "
      ]
     },
     "execution_count": 24,
     "metadata": {},
     "output_type": "execute_result"
    }
   ],
   "source": [
    "df.columns\n",
    "df.head()"
   ]
  },
  {
   "cell_type": "code",
   "execution_count": 48,
   "metadata": {},
   "outputs": [
    {
     "data": {
      "text/plain": [
       "1             DEC 31 (REUTERS) - FREDDIE MAC <FMCC.OB> ...\n",
       "2            * S&P 500 turns negative for year     * Ap...\n",
       "13        (Adds quote, background)     By Guillermo Par...\n",
       "27           * CMA refers unnamed suspects to authoriti...\n",
       "38           ** Australian biotech's U.S.-listed shares...\n",
       "40               * Decision to hike rates 25bps (to 3.2...\n",
       "43           LAGOS, Dec 31 (Reuters) - The Nigerian nai...\n",
       "46           ** Specialty rice packager's shares <ANFI....\n",
       "51           ** Oil and gas company's shares <WPX.N> up...\n",
       "53        Click the following link to watch video:     ...\n",
       "56               * USD/CLP hovers near 710 up a touch i...\n",
       "80           Dec 31 (Reuters) - Tesoro Corp <TSO.N>:   ...\n",
       "82        (The following statement was released by the ...\n",
       "90           Dec 31 (Reuters) - The U.S. Energy Informa...\n",
       "97           ** Drug developer's shares <AVXL.O> down 9...\n",
       "99           Dec 31 (Reuters) - Huishang Bank Corp Ltd ...\n",
       "101       Click the following link to watch video:     ...\n",
       "105          Dec 31 (Reuters) - BlackBerry Ltd <BB.TO> ...\n",
       "113       (Adds details)     Dec 31 (Reuters) - Health ...\n",
       "139          ** Shares of oil and gas producers up as o...\n",
       "140       Click the following link to watch video:     ...\n",
       "142       Click the following link to watch video:     ...\n",
       "148          Dec 31 (Reuters) - Wall Street securities ...\n",
       "150          SOFIA, Dec 31 (Reuters) - Bulgaria's priva...\n",
       "151          * Dollar index up over 9 pct for 2015     ...\n",
       "152          CHICAGO, Dec 31 (Reuters) - Spot basis bid...\n",
       "155          -- Source link: (http://bit.ly/1R0AMho)   ...\n",
       "169          ** Semicondutor device maker Amtech System...\n",
       "173         WARSAW, Dec 31 (Reuters) - POLONIA the refe...\n",
       "177          Dec 31 (Reuters) - Indian Oil Corp (IOC) <...\n",
       "                               ...                        \n",
       "89635        ** Shares in telecommunications operator d...\n",
       "89636        * Walsh made his name wielding axe at form...\n",
       "89639        * Airlines kept flying but safety record p...\n",
       "89641     (Adds quotes, details)     By Maha El Dahan  ...\n",
       "89654        RIYADH, Jan 31 (Reuters) - Saudi Arabia's ...\n",
       "89655        MOSCOW, Jan 31 (Reuters) - Venezuelan Oil ...\n",
       "89658        DUBAI, Jan 31 (Reuters) - Kuwait Finance H...\n",
       "89661        Jan 31 - ** The goodwill impairment at Cre...\n",
       "89672        TEL AVIV, Jan 31 (Reuters) - Partners in I...\n",
       "89673        DUBAI, Jan 31 (Reuters) - Abu Dhabi Commer...\n",
       "89674     (Repeats without any changes to text)     Jan...\n",
       "89675     (Repeats without any changes to text)     Jan...\n",
       "89676     (Repeats without any changes to text)     Jan...\n",
       "89677     (Repeats without any changes to text)     Jan...\n",
       "89678     (Repeats without any changes to text)     Jan...\n",
       "89679     (Repeats without any changes to text)     Jan...\n",
       "89684        CAIRO, Jan 31 (Reuters) - Egypt's M2 money...\n",
       "89687        FRANKFURT, Jan 31 (Reuters) - Volkswagen <...\n",
       "89707        JERUSALEM, Jan 31 (Reuters) - Israel's une...\n",
       "89723     (Adds share reaction, background on Noble's i...\n",
       "89726        DUBAI, Jan 31 (Reuters) - First Gulf Bank ...\n",
       "89734        * ADCB Q4 profit 1.19 bln dhs vs 1.02 bln ...\n",
       "89736        BANGKOK, Jan 31 (Reuters) - Thailand's mil...\n",
       "89743        SHARM AL-SHEIKH, Egypt, Jan 31 (Reuters) -...\n",
       "89746        * oil's rise spurs bargain-hunting in many...\n",
       "89748     (Corrects first and third paragraph to say co...\n",
       "89755        MILAN, Jan 31 (Reuters) - The Italian post...\n",
       "89757     Click the following link to watch video:     ...\n",
       "89763        * Q4 profit 1.72 bln dhs vs 1.55 bln dhs y...\n",
       "89765        LONDON, Jan 31 (Reuters) - Britain's fourt...\n",
       "Name: Story Body, Length: 21948, dtype: object"
      ]
     },
     "execution_count": 48,
     "metadata": {},
     "output_type": "execute_result"
    }
   ],
   "source": [
    "df[\"Story Body\"]"
   ]
  },
  {
   "cell_type": "code",
   "execution_count": 29,
   "metadata": {},
   "outputs": [],
   "source": [
    "def cleanText(text):\n",
    "    \n",
    "    ##광고 제거\n",
    "    text = text.split(\"<^\")[0]\n",
    "    \n",
    "    ##괄호 문장 제거 [] ()\n",
    "    #text = remove_text_inside_brackets(text)\n",
    "    text = regex.sub(r'\\([^()]*+(?:(?R)[^()]*)*+\\)', '', text)\n",
    "    text = re.sub(\"[\\<\\(\\[].*?[\\)\\]\\>]\", \"\", text)\n",
    "\n",
    "    ##E-mail 제거\n",
    "    email_regex = re.compile(r'(?i)\\b[A-Z0-9._%+-]+@[A-Z0-9.-]+\\.[A-Z]{2,}\\b')\n",
    "    text= email_regex.sub('', text)\n",
    "\n",
    "    ##HyperLink 제거\n",
    "    text = re.sub(r'\\w+:\\/{2}[\\d\\w-]+(\\.[\\d\\w-]+)*(?:(?:\\/[^\\s/]*))*', '', text)\n",
    "\n",
    "    # replace HTML symbols\n",
    "    text = text.replace(\"&amp;\", \"and\").replace(\"&gt;\", \">\").replace(\"&lt;\", \"<\")\n",
    "\n",
    "    ##양 끝 띄어쓰기 제거\n",
    "    #text = text.strip()\n",
    "    \n",
    "    return text\n",
    "\n",
    "def remove_one(text):\n",
    "    remove_start_line = []\n",
    "    remove_start_line.append(\"For the full text of this story please click the following link\")\n",
    "    remove_start_line.append(\"Keywords:\")\n",
    "    remove_start_line.append(\"Further company coverage:\")\n",
    "    remove_start_line.append(\"Source text for\")\n",
    "    \n",
    "    for item in remove_start_line:\n",
    "        if item in text:\n",
    "            return True\n",
    "    \n",
    "    return False\n",
    "\n",
    "def my_tokenizer(text):\n",
    "    temp = text.split('  - ')\n",
    "    temp = \"  \".join(temp)\n",
    "    temp = temp.split('  * ')\n",
    "    temp = \"  \".join(temp)\n",
    "    temp = temp.split('  ')\n",
    "    sentences = []\n",
    "    for sentence in temp:\n",
    "        item = sentence.strip()\n",
    "        if not item is None and not item == \"\" and not remove_one(sentence):\n",
    "            sentences.append(item)\n",
    "            \n",
    "    return sentences\n"
   ]
  },
  {
   "cell_type": "code",
   "execution_count": 30,
   "metadata": {},
   "outputs": [
    {
     "name": "stdout",
     "output_type": "stream",
     "text": [
      " Click the following link to watch video:                               https://insider.thomsonreuters.com/link.html?cn=share&cid=1545178&shareToken=Mzo1NGEyMGU1Ni02N2MwLTRiNjUtODc5My0wNTcxNDgxNjlhMDg%3D&playerName=ReutersNews                                                                         Source:             Thomson Reuters                                                                                                           Description:        Public review of Britain's banking culture                             scrapped, Vodafone finishes year higher.            (To access all exclusive Reuters Insider programming visit: http://insider.thomsonreuters.com)   Short Link:  http://reut.rs/1OmPbC7\n"
     ]
    }
   ],
   "source": [
    "sample_num = 20\n",
    "sample = df[\"Story Body\"].iloc[sample_num]\n",
    "print(sample)\n",
    "#print(my_tokenizer(cleanText(sample)))"
   ]
  },
  {
   "cell_type": "code",
   "execution_count": 31,
   "metadata": {},
   "outputs": [
    {
     "name": "stdout",
     "output_type": "stream",
     "text": [
      " Click the following link to watch video:                                                                                                        Source:             Thomson Reuters                                                                                                           Description:        Public review of Britain's banking culture                             scrapped, Vodafone finishes year higher.               Short Link:  \n"
     ]
    }
   ],
   "source": [
    "print(cleanText(sample))"
   ]
  },
  {
   "cell_type": "code",
   "execution_count": 32,
   "metadata": {},
   "outputs": [
    {
     "name": "stdout",
     "output_type": "stream",
     "text": [
      "Reuters Insider - UK Day Ahead: Banks review, Vodafone ends on a high\n"
     ]
    }
   ],
   "source": [
    "print(df[\"Headline\"].iloc[sample_num])"
   ]
  },
  {
   "cell_type": "code",
   "execution_count": 33,
   "metadata": {},
   "outputs": [],
   "source": [
    "from sacremoses import MosesTokenizer\n",
    "from nltk.tokenize import sent_tokenize"
   ]
  },
  {
   "cell_type": "code",
   "execution_count": 34,
   "metadata": {},
   "outputs": [],
   "source": [
    "moses_tokenize = MosesTokenizer(lang='en')"
   ]
  },
  {
   "cell_type": "code",
   "execution_count": 35,
   "metadata": {},
   "outputs": [
    {
     "name": "stdout",
     "output_type": "stream",
     "text": [
      "Click the following link to watch video:\n",
      "Source:\n",
      "Thomson Reuters\n",
      "Description:\n",
      "Public review of Britain's banking culture\n",
      "scrapped, Vodafone finishes year higher.\n",
      "Short Link:\n"
     ]
    }
   ],
   "source": [
    "for item in my_tokenizer(cleanText(sample)):\n",
    "    print(item)"
   ]
  },
  {
   "cell_type": "code",
   "execution_count": 36,
   "metadata": {},
   "outputs": [],
   "source": [
    "class myTokenizer:\n",
    "    def __init__(self, parser):\n",
    "        self.parser = parser\n",
    "        \n",
    "    def __call__(self, sample):\n",
    "        # get the tokens using spaCy\n",
    "        tokens = self.parser(sample)\n",
    "\n",
    "        # lemmatize\n",
    "        #remove_pos = ['-PRON-','SPACE','ADP','PUNCT','DET']\n",
    "\n",
    "        lemmas = []\n",
    "        for tok in tokens:\n",
    "            #item = (tok.lemma_.lower().strip(), tok.pos_)\n",
    "            #item = tok.lemma_\n",
    "            item = str(tok.lemma_.lower().strip())+ \"/\" + str(tok.pos_)\n",
    "            lemmas.append(item)\n",
    "\n",
    "        tokens = lemmas\n",
    "\n",
    "        return tokens"
   ]
  },
  {
   "cell_type": "code",
   "execution_count": 37,
   "metadata": {},
   "outputs": [],
   "source": [
    "import spacy\n",
    "nlp = spacy.load(\"en\")\n",
    "#parser = en_core_web_sm.load()\n",
    "#basic_tokenizer = myTokenizer(parser)"
   ]
  },
  {
   "cell_type": "code",
   "execution_count": 38,
   "metadata": {},
   "outputs": [],
   "source": [
    "temp = {}\n",
    "for text in my_tokenizer(cleanText(sample)):\n",
    "    tokens = nlp(text)\n",
    "    for token in tokens:\n",
    "        word = str(token)\n",
    "        if word in temp:\n",
    "            temp[word] = temp[word]+1\n",
    "        else:\n",
    "            temp[word] = 1"
   ]
  },
  {
   "cell_type": "code",
   "execution_count": 39,
   "metadata": {},
   "outputs": [
    {
     "data": {
      "text/plain": [
       "{'Click': 1,\n",
       " 'the': 1,\n",
       " 'following': 1,\n",
       " 'link': 1,\n",
       " 'to': 1,\n",
       " 'watch': 1,\n",
       " 'video': 1,\n",
       " ':': 4,\n",
       " 'Source': 1,\n",
       " 'Thomson': 1,\n",
       " 'Reuters': 1,\n",
       " 'Description': 1,\n",
       " 'Public': 1,\n",
       " 'review': 1,\n",
       " 'of': 1,\n",
       " 'Britain': 1,\n",
       " \"'s\": 1,\n",
       " 'banking': 1,\n",
       " 'culture': 1,\n",
       " 'scrapped': 1,\n",
       " ',': 1,\n",
       " 'Vodafone': 1,\n",
       " 'finishes': 1,\n",
       " 'year': 1,\n",
       " 'higher': 1,\n",
       " '.': 1,\n",
       " 'Short': 1,\n",
       " 'Link': 1}"
      ]
     },
     "execution_count": 39,
     "metadata": {},
     "output_type": "execute_result"
    }
   ],
   "source": [
    "temp"
   ]
  },
  {
   "cell_type": "code",
   "execution_count": 40,
   "metadata": {},
   "outputs": [
    {
     "name": "stdout",
     "output_type": "stream",
     "text": [
      "2\n"
     ]
    }
   ],
   "source": [
    "kkk = {}\n",
    "kkk[\"18\"] = 1\n",
    "if \"18\" in kkk:\n",
    "    kkk[\"18\"] = kkk[\"18\"]+1\n",
    "print(kkk[\"18\"])"
   ]
  },
  {
   "cell_type": "code",
   "execution_count": 41,
   "metadata": {},
   "outputs": [
    {
     "name": "stdout",
     "output_type": "stream",
     "text": [
      "['click/VERB', 'the/DET', 'follow/VERB', 'link/NOUN', 'to/PART', 'watch/VERB', 'video/NOUN', ':/PUNCT']\n",
      "()\n",
      "['source/NOUN', ':/PUNCT']\n",
      "()\n",
      "['Thomson/PROPN', 'reuter/NOUN']\n",
      "(Thomson Reuters,)\n",
      "['description/NOUN', ':/PUNCT']\n",
      "()\n",
      "['public/ADJ', 'review/NOUN', 'of/ADP', 'Britain/PROPN', \"'s/PART\", 'banking/NOUN', 'culture/NOUN']\n",
      "(Britain,)\n",
      "['scrap/VERB', ',/PUNCT', 'Vodafone/PROPN', 'finish/VERB', 'year/NOUN', 'higher/ADV', './PUNCT']\n",
      "(Vodafone,)\n",
      "['short/ADJ', 'Link/PROPN', ':/PUNCT']\n",
      "()\n"
     ]
    }
   ],
   "source": [
    "for item in my_tokenizer(cleanText(sample)):\n",
    "    tokens = nlp(item)\n",
    "    temp = []\n",
    "    for token in tokens:\n",
    "        temp.append(token.lemma_ + \"/\" + token.pos_)\n",
    "    print(temp)\n",
    "    print(tokens.ents)"
   ]
  },
  {
   "cell_type": "code",
   "execution_count": null,
   "metadata": {},
   "outputs": [],
   "source": []
  }
 ],
 "metadata": {
  "kernelspec": {
   "display_name": "Python 3",
   "language": "python",
   "name": "python3"
  },
  "language_info": {
   "codemirror_mode": {
    "name": "ipython",
    "version": 3
   },
   "file_extension": ".py",
   "mimetype": "text/x-python",
   "name": "python",
   "nbconvert_exporter": "python",
   "pygments_lexer": "ipython3",
   "version": "3.7.3"
  }
 },
 "nbformat": 4,
 "nbformat_minor": 1
}
